{
 "cells": [
  {
   "cell_type": "code",
   "execution_count": 1,
   "metadata": {
    "collapsed": true
   },
   "outputs": [],
   "source": [
    "import numpy as np\n",
    "import pandas as pd"
   ]
  },
  {
   "cell_type": "code",
   "execution_count": 2,
   "metadata": {
    "collapsed": true
   },
   "outputs": [],
   "source": [
    "rng = pd.date_range('3/6/2012 00:00', periods = 15, freq = 'D')\n",
    "rng.tz"
   ]
  },
  {
   "cell_type": "code",
   "execution_count": 3,
   "metadata": {
    "collapsed": false
   },
   "outputs": [
    {
     "data": {
      "text/plain": [
       "<DstTzInfo 'Europe/London' LMT-1 day, 23:59:00 STD>"
      ]
     },
     "execution_count": 3,
     "metadata": {},
     "output_type": "execute_result"
    }
   ],
   "source": [
    "rng_tz = pd.date_range('3/6/2012 00:00', periods = 15, freq = 'D', tz = 'Europe/London')\n",
    "rng_tz.tz"
   ]
  },
  {
   "cell_type": "code",
   "execution_count": 4,
   "metadata": {
    "collapsed": false
   },
   "outputs": [
    {
     "name": "stdout",
     "output_type": "stream",
     "text": [
      "439\n",
      "592\n",
      "{'America/Shiprock', 'Australia/North', 'Asia/Tel_Aviv', 'Etc/GMT-5', 'Etc/GMT+6', 'PRC', 'Etc/GMT+1', 'Asia/Rangoon', 'Portugal', 'Etc/GMT-12', 'UCT', 'Etc/GMT-14', 'America/Porto_Acre', 'Australia/Victoria', 'Kwajalein', 'GMT+0', 'Asia/Harbin', 'US/East-Indiana', 'Asia/Macao', 'Brazil/East', 'Pacific/Samoa', 'Mexico/General', 'W-SU', 'Europe/Nicosia', 'Asia/Chongqing', 'Australia/LHI', 'Etc/GMT-9', 'America/Coral_Harbour', 'EET', 'Asia/Saigon', 'Etc/GMT0', 'America/Knox_IN', 'Pacific/Truk', 'Australia/South', 'America/Jujuy', 'Asia/Istanbul', 'Chile/EasterIsland', 'Egypt', 'Atlantic/Faeroe', 'NZ', 'MET', 'Canada/East-Saskatchewan', 'MST', 'America/Cordoba', 'Singapore', 'America/Virgin', 'Japan', 'America/Atka', 'Asia/Chungking', 'Mexico/BajaSur', 'Etc/UTC', 'America/Indianapolis', 'Etc/UCT', 'Etc/GMT-11', 'ROC', 'Brazil/DeNoronha', 'Turkey', 'Etc/Greenwich', 'Iran', 'Africa/Asmera', 'Canada/Saskatchewan', 'Chile/Continental', 'Canada/Yukon', 'EST', 'America/Montreal', 'America/Argentina/ComodRivadavia', 'Etc/GMT+12', 'Etc/GMT-13', 'Europe/Tiraspol', 'Australia/Canberra', 'Etc/GMT-3', 'Australia/Yancowinna', 'Asia/Ulan_Bator', 'Asia/Calcutta', 'Etc/GMT-10', 'MST7MDT', 'CST6CDT', 'Asia/Kashgar', 'America/Louisville', 'NZ-CHAT', 'HST', 'Etc/GMT', 'Etc/GMT-6', 'PST8PDT', 'Jamaica', 'GMT0', 'Asia/Ujung_Pandang', 'Iceland', 'Cuba', 'Greenwich', 'America/Ensenada', 'Etc/GMT-8', 'US/Aleutian', 'Etc/GMT+7', 'GMT-0', 'Poland', 'Asia/Katmandu', 'Universal', 'US/Samoa', 'Etc/GMT-4', 'US/Indiana-Starke', 'Asia/Dacca', 'Australia/Queensland', 'CET', 'Asia/Ashkhabad', 'America/Buenos_Aires', 'Pacific/Ponape', 'Etc/GMT+0', 'Etc/GMT+10', 'Asia/Thimbu', 'America/Rosario', 'Eire', 'Europe/Belfast', 'Etc/GMT+11', 'Etc/GMT-1', 'US/Michigan', 'Etc/GMT+3', 'Atlantic/Jan_Mayen', 'Etc/GMT+5', 'Pacific/Yap', 'America/Mendoza', 'EST5EDT', 'America/Fort_Wayne', 'US/Pacific-New', 'America/Santa_Isabel', 'Brazil/West', 'ROK', 'Australia/ACT', 'Australia/NSW', 'GB', 'Zulu', 'Australia/West', 'Etc/GMT+4', 'America/Catamarca', 'Brazil/Acre', 'Navajo', 'Hongkong', 'Etc/GMT+8', 'Etc/Zulu', 'Etc/GMT-0', 'Etc/GMT+2', 'Etc/GMT-2', 'Etc/Universal', 'Etc/GMT+9', 'Libya', 'Africa/Timbuktu', 'Antarctica/South_Pole', 'Israel', 'Australia/Tasmania', 'GB-Eire', 'Etc/GMT-7', 'WET', 'Mexico/BajaNorte'}\n"
     ]
    }
   ],
   "source": [
    "from pytz import common_timezones, all_timezones\n",
    "print(len(common_timezones))\n",
    "print(len(all_timezones))\n",
    "print(set(all_timezones) - set(common_timezones))"
   ]
  },
  {
   "cell_type": "code",
   "execution_count": 5,
   "metadata": {
    "collapsed": false
   },
   "outputs": [
    {
     "data": {
      "text/plain": [
       "Timestamp('2016-07-10 08:50:00')"
      ]
     },
     "execution_count": 5,
     "metadata": {},
     "output_type": "execute_result"
    }
   ],
   "source": [
    "# You can also localize a naive timestamp\n",
    "t_naive = pd.Timestamp('2016-07-10 08:50')\n",
    "t_naive"
   ]
  },
  {
   "cell_type": "code",
   "execution_count": 6,
   "metadata": {
    "collapsed": false
   },
   "outputs": [
    {
     "data": {
      "text/plain": [
       "Timestamp('2016-07-10 08:50:00-0500', tz='US/Central')"
      ]
     },
     "execution_count": 6,
     "metadata": {},
     "output_type": "execute_result"
    }
   ],
   "source": [
    "t = t_naive.tz_localize(tz = 'US/Central')\n",
    "t"
   ]
  },
  {
   "cell_type": "code",
   "execution_count": 7,
   "metadata": {
    "collapsed": false
   },
   "outputs": [
    {
     "data": {
      "text/plain": [
       "Timestamp('2016-07-10 22:50:00+0900', tz='Asia/Tokyo')"
      ]
     },
     "execution_count": 7,
     "metadata": {},
     "output_type": "execute_result"
    }
   ],
   "source": [
    "t.tz_convert('Asia/Tokyo')"
   ]
  },
  {
   "cell_type": "code",
   "execution_count": 8,
   "metadata": {
    "collapsed": false
   },
   "outputs": [
    {
     "data": {
      "text/plain": [
       "2016-03-10 00:00:00-06:00    0\n",
       "2016-03-11 00:00:00-06:00    1\n",
       "2016-03-12 00:00:00-06:00    2\n",
       "2016-03-13 00:00:00-06:00    3\n",
       "2016-03-14 00:00:00-05:00    4\n",
       "2016-03-15 00:00:00-05:00    5\n",
       "2016-03-16 00:00:00-05:00    6\n",
       "2016-03-17 00:00:00-05:00    7\n",
       "2016-03-18 00:00:00-05:00    8\n",
       "2016-03-19 00:00:00-05:00    9\n",
       "Freq: D, dtype: int32"
      ]
     },
     "execution_count": 8,
     "metadata": {},
     "output_type": "execute_result"
    }
   ],
   "source": [
    "# how to handle daylight savings?\n",
    "rng = pd.date_range('2016-03-10', periods=10, tz='US/Central')\n",
    "ts = pd.Series(range(10), index=rng)\n",
    "ts"
   ]
  },
  {
   "cell_type": "code",
   "execution_count": 9,
   "metadata": {
    "collapsed": false
   },
   "outputs": [
    {
     "data": {
      "text/plain": [
       "2016-03-10 00:00:00+00:00    0\n",
       "2016-03-11 00:00:00+00:00    1\n",
       "2016-03-12 00:00:00+00:00    2\n",
       "2016-03-13 00:00:00+00:00    3\n",
       "2016-03-14 00:00:00+00:00    4\n",
       "2016-03-15 00:00:00+00:00    5\n",
       "2016-03-16 00:00:00+00:00    6\n",
       "2016-03-17 00:00:00+00:00    7\n",
       "2016-03-18 00:00:00+00:00    8\n",
       "2016-03-19 00:00:00+00:00    9\n",
       "Freq: D, dtype: int32"
      ]
     },
     "execution_count": 9,
     "metadata": {},
     "output_type": "execute_result"
    }
   ],
   "source": [
    "rng = pd.date_range('2016-03-10', periods=10, tz='utc')\n",
    "ts = pd.Series(range(10), index=rng)\n",
    "ts"
   ]
  },
  {
   "cell_type": "code",
   "execution_count": 10,
   "metadata": {
    "collapsed": false
   },
   "outputs": [
    {
     "data": {
      "text/plain": [
       "2016-03-09 18:00:00-06:00    0\n",
       "2016-03-10 18:00:00-06:00    1\n",
       "2016-03-11 18:00:00-06:00    2\n",
       "2016-03-12 18:00:00-06:00    3\n",
       "2016-03-13 19:00:00-05:00    4\n",
       "2016-03-14 19:00:00-05:00    5\n",
       "2016-03-15 19:00:00-05:00    6\n",
       "2016-03-16 19:00:00-05:00    7\n",
       "2016-03-17 19:00:00-05:00    8\n",
       "2016-03-18 19:00:00-05:00    9\n",
       "Freq: D, dtype: int32"
      ]
     },
     "execution_count": 10,
     "metadata": {},
     "output_type": "execute_result"
    }
   ],
   "source": [
    "ts.tz_convert('US/Central')"
   ]
  },
  {
   "cell_type": "code",
   "execution_count": 11,
   "metadata": {
    "collapsed": false
   },
   "outputs": [
    {
     "data": {
      "text/plain": [
       "DatetimeIndex(['2016-03-12 22:00:00-05:00', '2016-03-12 23:00:00-05:00',\n",
       "               '2016-03-13 00:00:00-05:00', '2016-03-13 01:00:00-05:00',\n",
       "               '2016-03-13 03:00:00-04:00', '2016-03-13 04:00:00-04:00',\n",
       "               '2016-03-13 05:00:00-04:00', '2016-03-13 06:00:00-04:00',\n",
       "               '2016-03-13 07:00:00-04:00', '2016-03-13 08:00:00-04:00',\n",
       "               '2016-03-13 09:00:00-04:00', '2016-03-13 10:00:00-04:00'],\n",
       "              dtype='datetime64[ns, US/Eastern]', freq='H')"
      ]
     },
     "execution_count": 11,
     "metadata": {},
     "output_type": "execute_result"
    }
   ],
   "source": [
    "pd.date_range('03-12-2016 22:00', periods = 12, freq = 'H', tz = 'US/Eastern')"
   ]
  },
  {
   "cell_type": "code",
   "execution_count": 12,
   "metadata": {
    "collapsed": false
   },
   "outputs": [
    {
     "data": {
      "text/plain": [
       "Timestamp('2016-03-13 03:00:00-0400', tz='US/Eastern')"
      ]
     },
     "execution_count": 12,
     "metadata": {},
     "output_type": "execute_result"
    }
   ],
   "source": [
    "# May autocorrect an error rather than giving you a non-existent time error\n",
    "pd.Timestamp('2016-03-13 02:00', tz = 'US/Eastern')"
   ]
  },
  {
   "cell_type": "code",
   "execution_count": null,
   "metadata": {
    "collapsed": true
   },
   "outputs": [],
   "source": []
  }
 ],
 "metadata": {
  "kernelspec": {
   "display_name": "Python 3",
   "language": "python",
   "name": "python3"
  },
  "language_info": {
   "codemirror_mode": {
    "name": "ipython",
    "version": 3
   },
   "file_extension": ".py",
   "mimetype": "text/x-python",
   "name": "python",
   "nbconvert_exporter": "python",
   "pygments_lexer": "ipython3",
   "version": "3.6.0"
  }
 },
 "nbformat": 4,
 "nbformat_minor": 0
}
