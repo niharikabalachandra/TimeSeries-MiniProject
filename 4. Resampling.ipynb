{
 "cells": [
  {
   "cell_type": "code",
   "execution_count": 1,
   "metadata": {
    "collapsed": true
   },
   "outputs": [],
   "source": [
    "import pandas as pd\n",
    "import numpy as np"
   ]
  },
  {
   "cell_type": "code",
   "execution_count": 2,
   "metadata": {
    "collapsed": true
   },
   "outputs": [],
   "source": [
    "rng = pd.date_range('1/1/2011', periods=72, freq='H')\n",
    "ts = pd.Series(np.random.randn(len(rng)), index=rng)"
   ]
  },
  {
   "cell_type": "code",
   "execution_count": 3,
   "metadata": {
    "collapsed": true
   },
   "outputs": [],
   "source": [
    "converted = ts.asfreq('45Min', method='pad')"
   ]
  },
  {
   "cell_type": "code",
   "execution_count": 4,
   "metadata": {
    "collapsed": true
   },
   "outputs": [],
   "source": [
    "# Does asfreq change the # of rows?"
   ]
  },
  {
   "cell_type": "code",
   "execution_count": 5,
   "metadata": {
    "collapsed": false
   },
   "outputs": [],
   "source": [
    "# What do the different methods do?\n",
    "# method : {‘backfill’, ‘bfill’, ‘pad’, ‘ffill’, None}"
   ]
  },
  {
   "cell_type": "code",
   "execution_count": 6,
   "metadata": {
    "collapsed": false
   },
   "outputs": [],
   "source": [
    "# Might any of these methods have pitfalls from a logical point of view?"
   ]
  },
  {
   "cell_type": "code",
   "execution_count": 7,
   "metadata": {
    "collapsed": true
   },
   "outputs": [],
   "source": [
    "# What's the difference between going to a higher frequency and a lower frequency?"
   ]
  },
  {
   "cell_type": "code",
   "execution_count": 8,
   "metadata": {
    "collapsed": true
   },
   "outputs": [],
   "source": [
    "converted = ts.asfreq('90Min', method = 'bfill')"
   ]
  },
  {
   "cell_type": "code",
   "execution_count": 9,
   "metadata": {
    "collapsed": true
   },
   "outputs": [],
   "source": [
    "# What's different logically about going to a higher frequency vs a lower frequency? \n",
    "# What do you want to do when switching to a lower freqeuncy that is not logical when switching to a higher frequency?"
   ]
  },
  {
   "cell_type": "code",
   "execution_count": 10,
   "metadata": {
    "collapsed": false
   },
   "outputs": [
    {
     "data": {
      "text/plain": [
       "2011-01-01   -1.044026\n",
       "2011-01-02   -7.271435\n",
       "2011-01-03    3.046338\n",
       "Freq: D, dtype: float64"
      ]
     },
     "execution_count": 10,
     "metadata": {},
     "output_type": "execute_result"
    }
   ],
   "source": [
    "ts.resample('D').sum()"
   ]
  },
  {
   "cell_type": "code",
   "execution_count": 11,
   "metadata": {
    "collapsed": true
   },
   "outputs": [],
   "source": [
    "# What if you want to downsample and you don't want to ffill or bfill?"
   ]
  },
  {
   "cell_type": "code",
   "execution_count": 12,
   "metadata": {
    "collapsed": true
   },
   "outputs": [],
   "source": [
    "# What is the difference between .resample() and .asfreq()?"
   ]
  },
  {
   "cell_type": "code",
   "execution_count": 13,
   "metadata": {
    "collapsed": true
   },
   "outputs": [],
   "source": [
    "# What are some special things you can do with .resample() you can't do with .asfreq()?\n"
   ]
  },
  {
   "cell_type": "code",
   "execution_count": 16,
   "metadata": {
    "collapsed": false
   },
   "outputs": [
    {
     "data": {
      "text/plain": [
       "2011-01-01 13:00:00    0.852691\n",
       "2011-01-02 06:00:00    0.109640\n",
       "2011-01-03 19:00:00    2.105251\n",
       "2011-01-03 06:00:00   -0.030027\n",
       "2011-01-01 10:00:00   -0.455968\n",
       "2011-01-01 05:00:00   -0.529966\n",
       "2011-01-02 07:00:00    0.032163\n",
       "2011-01-02 22:00:00   -0.498794\n",
       "2011-01-03 03:00:00   -1.014320\n",
       "2011-01-03 21:00:00    1.248991\n",
       "dtype: float64"
      ]
     },
     "execution_count": 16,
     "metadata": {},
     "output_type": "execute_result"
    }
   ],
   "source": [
    "irreg_ts= ts[list(np.random.choice(a= list(range(len(ts))),size=10, replace=False))]\n",
    "irreg_ts.fillna(method='ffill', limit=5)"
   ]
  },
  {
   "cell_type": "code",
   "execution_count": 17,
   "metadata": {
    "collapsed": false
   },
   "outputs": [
    {
     "data": {
      "text/plain": [
       "2011-01-01 01:00:00    0.172162\n",
       "2011-01-01 02:00:00    0.172162\n",
       "2011-01-01 03:00:00    0.172162\n",
       "2011-01-01 04:00:00    0.172162\n",
       "2011-01-01 05:00:00    0.172162\n",
       "2011-01-01 06:00:00    0.172162\n",
       "2011-01-01 07:00:00         NaN\n",
       "2011-01-01 08:00:00         NaN\n",
       "2011-01-01 09:00:00         NaN\n",
       "2011-01-01 10:00:00   -0.455968\n",
       "2011-01-01 11:00:00   -0.455968\n",
       "2011-01-01 12:00:00   -0.455968\n",
       "2011-01-01 13:00:00   -0.455968\n",
       "2011-01-01 14:00:00   -0.455968\n",
       "2011-01-01 15:00:00   -0.455968\n",
       "2011-01-01 16:00:00         NaN\n",
       "2011-01-01 17:00:00         NaN\n",
       "2011-01-01 18:00:00         NaN\n",
       "2011-01-01 19:00:00         NaN\n",
       "2011-01-01 20:00:00         NaN\n",
       "2011-01-01 21:00:00   -1.032909\n",
       "2011-01-01 22:00:00   -1.032909\n",
       "2011-01-01 23:00:00   -1.032909\n",
       "2011-01-02 00:00:00   -1.032909\n",
       "2011-01-02 01:00:00   -1.032909\n",
       "2011-01-02 02:00:00   -0.940892\n",
       "2011-01-02 03:00:00   -0.940892\n",
       "2011-01-02 04:00:00   -0.940892\n",
       "2011-01-02 05:00:00   -0.994448\n",
       "2011-01-02 06:00:00   -0.994448\n",
       "                         ...   \n",
       "2011-01-02 15:00:00    0.722908\n",
       "2011-01-02 16:00:00    0.722908\n",
       "2011-01-02 17:00:00    0.722908\n",
       "2011-01-02 18:00:00    0.722908\n",
       "2011-01-02 19:00:00    0.722908\n",
       "2011-01-02 20:00:00         NaN\n",
       "2011-01-02 21:00:00         NaN\n",
       "2011-01-02 22:00:00         NaN\n",
       "2011-01-02 23:00:00         NaN\n",
       "2011-01-03 00:00:00   -1.307941\n",
       "2011-01-03 01:00:00   -1.307941\n",
       "2011-01-03 02:00:00    1.946405\n",
       "2011-01-03 03:00:00    1.946405\n",
       "2011-01-03 04:00:00    1.946405\n",
       "2011-01-03 05:00:00    1.946405\n",
       "2011-01-03 06:00:00    1.946405\n",
       "2011-01-03 07:00:00    1.946405\n",
       "2011-01-03 08:00:00         NaN\n",
       "2011-01-03 09:00:00         NaN\n",
       "2011-01-03 10:00:00         NaN\n",
       "2011-01-03 11:00:00         NaN\n",
       "2011-01-03 12:00:00         NaN\n",
       "2011-01-03 13:00:00         NaN\n",
       "2011-01-03 14:00:00         NaN\n",
       "2011-01-03 15:00:00         NaN\n",
       "2011-01-03 16:00:00    0.336054\n",
       "2011-01-03 17:00:00    0.336054\n",
       "2011-01-03 18:00:00    0.336054\n",
       "2011-01-03 19:00:00    0.336054\n",
       "2011-01-03 20:00:00   -0.316310\n",
       "Freq: H, dtype: float64"
      ]
     },
     "execution_count": 17,
     "metadata": {},
     "output_type": "execute_result"
    }
   ],
   "source": [
    "irreg_ts= ts[list(np.random.choice(a= list(range(len(ts))),size=10, replace=False))]\n",
    "irreg_ts= irreg_ts.sort_index()\n",
    "irreg_ts.resample('H').fillna(method='ffill', limit=5)"
   ]
  },
  {
   "cell_type": "code",
   "execution_count": 19,
   "metadata": {
    "collapsed": false
   },
   "outputs": [
    {
     "data": {
      "text/plain": [
       "2011-01-01 01:00:00    1\n",
       "2011-01-01 02:00:00    0\n",
       "2011-01-01 03:00:00    0\n",
       "2011-01-01 04:00:00    0\n",
       "2011-01-01 05:00:00    0\n",
       "2011-01-01 06:00:00    0\n",
       "2011-01-01 07:00:00    0\n",
       "2011-01-01 08:00:00    0\n",
       "2011-01-01 09:00:00    0\n",
       "2011-01-01 10:00:00    1\n",
       "2011-01-01 11:00:00    0\n",
       "2011-01-01 12:00:00    0\n",
       "2011-01-01 13:00:00    0\n",
       "2011-01-01 14:00:00    0\n",
       "2011-01-01 15:00:00    0\n",
       "2011-01-01 16:00:00    0\n",
       "2011-01-01 17:00:00    0\n",
       "2011-01-01 18:00:00    0\n",
       "2011-01-01 19:00:00    0\n",
       "2011-01-01 20:00:00    0\n",
       "2011-01-01 21:00:00    1\n",
       "2011-01-01 22:00:00    0\n",
       "2011-01-01 23:00:00    0\n",
       "2011-01-02 00:00:00    0\n",
       "2011-01-02 01:00:00    0\n",
       "2011-01-02 02:00:00    1\n",
       "2011-01-02 03:00:00    0\n",
       "2011-01-02 04:00:00    0\n",
       "2011-01-02 05:00:00    1\n",
       "2011-01-02 06:00:00    0\n",
       "                      ..\n",
       "2011-01-02 15:00:00    0\n",
       "2011-01-02 16:00:00    0\n",
       "2011-01-02 17:00:00    0\n",
       "2011-01-02 18:00:00    0\n",
       "2011-01-02 19:00:00    0\n",
       "2011-01-02 20:00:00    0\n",
       "2011-01-02 21:00:00    0\n",
       "2011-01-02 22:00:00    0\n",
       "2011-01-02 23:00:00    0\n",
       "2011-01-03 00:00:00    1\n",
       "2011-01-03 01:00:00    0\n",
       "2011-01-03 02:00:00    1\n",
       "2011-01-03 03:00:00    0\n",
       "2011-01-03 04:00:00    0\n",
       "2011-01-03 05:00:00    0\n",
       "2011-01-03 06:00:00    0\n",
       "2011-01-03 07:00:00    0\n",
       "2011-01-03 08:00:00    0\n",
       "2011-01-03 09:00:00    0\n",
       "2011-01-03 10:00:00    0\n",
       "2011-01-03 11:00:00    0\n",
       "2011-01-03 12:00:00    0\n",
       "2011-01-03 13:00:00    0\n",
       "2011-01-03 14:00:00    0\n",
       "2011-01-03 15:00:00    0\n",
       "2011-01-03 16:00:00    1\n",
       "2011-01-03 17:00:00    0\n",
       "2011-01-03 18:00:00    0\n",
       "2011-01-03 19:00:00    0\n",
       "2011-01-03 20:00:00    1\n",
       "Freq: H, dtype: int64"
      ]
     },
     "execution_count": 19,
     "metadata": {},
     "output_type": "execute_result"
    }
   ],
   "source": [
    "irreg_ts.resample('H').count()"
   ]
  },
  {
   "cell_type": "code",
   "execution_count": null,
   "metadata": {
    "collapsed": true
   },
   "outputs": [],
   "source": []
  }
 ],
 "metadata": {
  "kernelspec": {
   "display_name": "Python 3",
   "language": "python",
   "name": "python3"
  },
  "language_info": {
   "codemirror_mode": {
    "name": "ipython",
    "version": 3
   },
   "file_extension": ".py",
   "mimetype": "text/x-python",
   "name": "python",
   "nbconvert_exporter": "python",
   "pygments_lexer": "ipython3",
   "version": "3.6.0"
  }
 },
 "nbformat": 4,
 "nbformat_minor": 0
}
